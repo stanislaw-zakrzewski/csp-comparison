{
 "cells": [
  {
   "cell_type": "markdown",
   "id": "a06b76ac",
   "metadata": {},
   "source": [
    "# All Band Analysis\n",
    "\n",
    "This experiment will compare 4 sets of EEG channels selections:\n",
    "* C3, C4\n",
    "* C5, C3, C1, C2, C4, C6, FC3, CP3, FC4, CP4\n",
    "* FC5, FC3, FC2, C5, C3, C1, CP5, CP3, CP1, FC2, FC4, FC6, C2, C4, C6, CP2, CP4, CP6\n",
    "* All EEG channels"
   ]
  },
  {
   "cell_type": "code",
   "execution_count": 1,
   "id": "11ae7f9f",
   "metadata": {},
   "outputs": [],
   "source": [
    "bare_minimum_channels = ['C3', 'C4']\n",
    "minimum_channels = ['C5', 'C3', 'C1', 'C2', 'C4', 'C6', 'FC3', 'CP3', 'FC4', 'CP4']\n",
    "\n",
    "all_available_channels = ['FC5', 'FC3', 'FC2', 'C5', 'C3', 'C1', 'CP5', 'CP3', 'CP1', 'FC2', 'FC4', 'FC6', 'C2', 'C4',\n",
    "                          'C6', 'CP2', 'CP4', 'CP6']"
   ]
  },
  {
   "cell_type": "markdown",
   "id": "269c383b",
   "metadata": {},
   "source": [
    "For 4 frequency bands:\n",
    "* 8Hz-10Hz\n",
    "* 10Hz-12Hz\n",
    "* 20Hz-22Hz\n",
    "* 22Hz-24Hz"
   ]
  },
  {
   "cell_type": "code",
   "execution_count": 2,
   "id": "5de0481f",
   "metadata": {},
   "outputs": [],
   "source": [
    "bands = [(6, 8), (8, 10), (10, 12), (12, 14), (14, 16), (16, 18), (18, 20), (20, 22), (22, 24), (24, 26), (26, 28),\n",
    "         (28, 30), (30, 32), (32, 34), (34, 36), (36, 38), (38, 40), (40, 42)]"
   ]
  },
  {
   "cell_type": "markdown",
   "id": "7af05844",
   "metadata": {},
   "source": [
    "## Load libraries"
   ]
  },
  {
   "cell_type": "code",
   "execution_count": 1,
   "id": "a4e5e65b",
   "metadata": {},
   "outputs": [],
   "source": [
    "from experiments.band_classification import process_bands, visualize_csp_filters\n",
    "from visualization.time_dependent_accuracy import visualize_multiple_configurations_band_accuracy\n",
    "import matplotlib.pyplot as plt\n",
    "plt.rcParams['figure.figsize'] = [10, 5]"
   ]
  },
  {
   "cell_type": "markdown",
   "id": "152d36ee",
   "metadata": {},
   "source": [
    "## Process Data"
   ]
  },
  {
   "cell_type": "code",
   "execution_count": null,
   "id": "63e48a73",
   "metadata": {},
   "outputs": [],
   "source": [
    "experiment_names = ['2 channels', '10 channels', '18 channels', '64 channels']\n",
    "experiment_channel_selections = [\n",
    "    process_bands(bands, bare_minimum_channels, True),\n",
    "    process_bands(bands, minimum_channels, True),\n",
    "    process_bands(bands, all_available_channels, True),\n",
    "    process_bands(bands, reset=True)\n",
    "]        "
   ]
  },
  {
   "cell_type": "code",
   "execution_count": null,
   "id": "2a7a21a3",
   "metadata": {},
   "outputs": [],
   "source": [
    "visualize_multiple_configurations_band_accuracy(experiment_channel_selections, experiment_names, (2, 2))"
   ]
  },
  {
   "cell_type": "code",
   "execution_count": null,
   "id": "0c329bb5",
   "metadata": {},
   "outputs": [],
   "source": [
    "for index, experiment_name in enumerate(experiment_names):\n",
    "    visualize_csp_filters(experiment_channel_selections[index], 2, (2,2))"
   ]
  }
 ],
 "metadata": {
  "kernelspec": {
   "display_name": "Python 3 (ipykernel)",
   "language": "python",
   "name": "python3"
  },
  "language_info": {
   "codemirror_mode": {
    "name": "ipython",
    "version": 3
   },
   "file_extension": ".py",
   "mimetype": "text/x-python",
   "name": "python",
   "nbconvert_exporter": "python",
   "pygments_lexer": "ipython3",
   "version": "3.8.13"
  }
 },
 "nbformat": 4,
 "nbformat_minor": 5
}
