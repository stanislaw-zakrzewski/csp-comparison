{
 "cells": [
  {
   "cell_type": "markdown",
   "id": "a06b76ac",
   "metadata": {},
   "source": [
    "# Critical Band Analysis\n",
    "\n",
    "This experiment will compare 4 sets of EEG channels selections:\n",
    "* C3, C4\n",
    "* C5, C3, C1, C2, C4, C6, FC3, CP3, FC4, CP4\n",
    "* FC5, FC3, FC2, C5, C3, C1, CP5, CP3, CP1, FC2, FC4, FC6, C2, C4, C6, CP2, CP4, CP6\n",
    "* All EEG channels"
   ]
  },
  {
   "cell_type": "code",
   "execution_count": 1,
   "id": "11ae7f9f",
   "metadata": {},
   "outputs": [],
   "source": [
    "bare_minimum_channels = ['C3', 'C4']\n",
    "minimum_channels = ['C5', 'C3', 'C1', 'C2', 'C4', 'C6', 'FC3', 'CP3', 'FC4', 'CP4']\n",
    "\n",
    "all_available_channels = ['FC5', 'FC3', 'FC2', 'C5', 'C3', 'C1', 'CP5', 'CP3', 'CP1', 'FC2', 'FC4', 'FC6', 'C2', 'C4',\n",
    "                          'C6', 'CP2', 'CP4', 'CP6']"
   ]
  },
  {
   "cell_type": "markdown",
   "id": "269c383b",
   "metadata": {},
   "source": [
    "For 4 frequency bands:\n",
    "* 8Hz-10Hz\n",
    "* 10Hz-12Hz\n",
    "* 20Hz-22Hz\n",
    "* 22Hz-24Hz"
   ]
  },
  {
   "cell_type": "code",
   "execution_count": 2,
   "id": "5de0481f",
   "metadata": {},
   "outputs": [],
   "source": [
    "bands = [(6, 8), (8, 10), (20, 22), (22, 24)]"
   ]
  },
  {
   "cell_type": "markdown",
   "id": "a693311b",
   "metadata": {},
   "source": [
    "All done for 1 subject:"
   ]
  },
  {
   "cell_type": "code",
   "execution_count": 3,
   "id": "f6299316",
   "metadata": {},
   "outputs": [],
   "source": [
    "subject_name = 's14'"
   ]
  },
  {
   "cell_type": "markdown",
   "id": "7af05844",
   "metadata": {},
   "source": [
    "## Load libraries"
   ]
  },
  {
   "cell_type": "code",
   "execution_count": 4,
   "id": "a4e5e65b",
   "metadata": {},
   "outputs": [],
   "source": [
    "import mne\n",
    "from experiments.band_classification import process_bands, visualize_csp_filters\n",
    "from visualization.time_dependent_accuracy import visualize_multiple_configurations_band_accuracy\n",
    "import matplotlib.pyplot as plt\n",
    "\n",
    "# Hide all debug logs from mne\n",
    "mne.set_log_level('ERROR')\n",
    "\n",
    "# Increase plot size\n",
    "plt.rcParams['figure.figsize'] = [16, 8]"
   ]
  },
  {
   "cell_type": "markdown",
   "id": "152d36ee",
   "metadata": {},
   "source": [
    "## Process Data"
   ]
  },
  {
   "cell_type": "code",
   "execution_count": 6,
   "id": "63e48a73",
   "metadata": {},
   "outputs": [
    {
     "name": "stdout",
     "output_type": "stream",
     "text": [
      "Processing 6 Hz - 8 Hz band\n",
      "Started processing 1 of 1 subjects\n",
      "Finished processing 1 of 1 subjects\n",
      "Processing 8 Hz - 10 Hz band\n",
      "Processing 20 Hz - 22 Hz band\n",
      "Processing 22 Hz - 24 Hz band\n",
      "Processing 6 Hz - 8 Hz band\n",
      "Processing 8 Hz - 10 Hz band\n",
      "Processing 20 Hz - 22 Hz band\n",
      "Processing 22 Hz - 24 Hz band\n",
      "Processing 6 Hz - 8 Hz band\n",
      "Processing 8 Hz - 10 Hz band\n",
      "Processing 20 Hz - 22 Hz band\n",
      "Processing 22 Hz - 24 Hz band\n"
     ]
    },
    {
     "ename": "TypeError",
     "evalue": "process_bands() missing 1 required positional argument: 'selected_channels'",
     "output_type": "error",
     "traceback": [
      "\u001b[1;31m---------------------------------------------------------------------------\u001b[0m",
      "\u001b[1;31mTypeError\u001b[0m                                 Traceback (most recent call last)",
      "Input \u001b[1;32mIn [6]\u001b[0m, in \u001b[0;36m<cell line: 3>\u001b[1;34m()\u001b[0m\n\u001b[0;32m      1\u001b[0m experiment_names \u001b[38;5;241m=\u001b[39m [\u001b[38;5;124m'\u001b[39m\u001b[38;5;124m2 channels\u001b[39m\u001b[38;5;124m'\u001b[39m, \u001b[38;5;124m'\u001b[39m\u001b[38;5;124m10 channels\u001b[39m\u001b[38;5;124m'\u001b[39m, \u001b[38;5;124m'\u001b[39m\u001b[38;5;124m18 channels\u001b[39m\u001b[38;5;124m'\u001b[39m, \u001b[38;5;124m'\u001b[39m\u001b[38;5;124m64 channels\u001b[39m\u001b[38;5;124m'\u001b[39m]\n\u001b[0;32m      2\u001b[0m experiment_channel_selections \u001b[38;5;241m=\u001b[39m [\n\u001b[0;32m      3\u001b[0m     process_bands(subject_name, bands, bare_minimum_channels, \u001b[38;5;28;01mTrue\u001b[39;00m),\n\u001b[0;32m      4\u001b[0m     process_bands(subject_name, bands, minimum_channels, \u001b[38;5;28;01mTrue\u001b[39;00m),\n\u001b[0;32m      5\u001b[0m     process_bands(subject_name, bands, all_available_channels, \u001b[38;5;28;01mTrue\u001b[39;00m),\n\u001b[1;32m----> 6\u001b[0m     \u001b[43mprocess_bands\u001b[49m\u001b[43m(\u001b[49m\u001b[43msubject_name\u001b[49m\u001b[43m,\u001b[49m\u001b[43m \u001b[49m\u001b[43mbands\u001b[49m\u001b[43m,\u001b[49m\u001b[43m \u001b[49m\u001b[43mreset\u001b[49m\u001b[38;5;241;43m=\u001b[39;49m\u001b[38;5;28;43;01mTrue\u001b[39;49;00m\u001b[43m)\u001b[49m\n\u001b[0;32m      7\u001b[0m ]\n",
      "\u001b[1;31mTypeError\u001b[0m: process_bands() missing 1 required positional argument: 'selected_channels'"
     ]
    }
   ],
   "source": [
    "experiment_names = ['2 channels', '10 channels', '18 channels', '64 channels']\n",
    "experiment_channel_selections = [\n",
    "    process_bands(subject_name, bands, bare_minimum_channels, True),\n",
    "    process_bands(subject_name, bands, minimum_channels, True),\n",
    "    process_bands(subject_name, bands, all_available_channels, True),\n",
    "    process_bands(subject_name, bands, reset=True)\n",
    "]        "
   ]
  },
  {
   "cell_type": "code",
   "execution_count": null,
   "id": "2a7a21a3",
   "metadata": {},
   "outputs": [],
   "source": [
    "visualize_multiple_configurations_band_accuracy(bands, experiment_channel_selections, experiment_names, (2, 2))"
   ]
  },
  {
   "cell_type": "code",
   "execution_count": null,
   "id": "0c329bb5",
   "metadata": {},
   "outputs": [],
   "source": [
    "# for index, experiment_name in enumerate(experiment_names):\n",
    "#     visualize_csp_filters(experiment_channel_selections[index], 2, (2,2))"
   ]
  },
  {
   "cell_type": "code",
   "execution_count": null,
   "id": "3435631a",
   "metadata": {},
   "outputs": [],
   "source": []
  }
 ],
 "metadata": {
  "kernelspec": {
   "display_name": "Python 3 (ipykernel)",
   "language": "python",
   "name": "python3"
  },
  "language_info": {
   "codemirror_mode": {
    "name": "ipython",
    "version": 3
   },
   "file_extension": ".py",
   "mimetype": "text/x-python",
   "name": "python",
   "nbconvert_exporter": "python",
   "pygments_lexer": "ipython3",
   "version": "3.8.13"
  }
 },
 "nbformat": 4,
 "nbformat_minor": 5
}
